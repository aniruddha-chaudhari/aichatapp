{
 "cells": [
  {
   "cell_type": "code",
   "execution_count": 26,
   "metadata": {},
   "outputs": [
    {
     "data": {
      "text/plain": [
       "True"
      ]
     },
     "execution_count": 26,
     "metadata": {},
     "output_type": "execute_result"
    }
   ],
   "source": [
    "from pinecone import Pinecone, ServerlessSpec\n",
    "import os\n",
    "import cohere\n",
    "from groq import Groq\n",
    "import pandas as pd\n",
    "from time import time\n",
    "import dotenv\n",
    "dotenv.load_dotenv(dotenv_path=\".env\")"
   ]
  },
  {
   "cell_type": "code",
   "execution_count": 27,
   "metadata": {},
   "outputs": [],
   "source": [
    "co = cohere.ClientV2(api_key=os.getenv(\"COHERE_API_KEY\"))\n",
    "client = Groq(api_key=os.getenv(\"GROQ_API_KEY\"))\n",
    "pinecone_api_key = os.getenv(\"PINECONE_API_KEY\")\n",
    "dimension = 384\n",
    "metric = \"cosine\""
   ]
  },
  {
   "cell_type": "code",
   "execution_count": 28,
   "metadata": {},
   "outputs": [],
   "source": [
    "pc = Pinecone(api_key=pinecone_api_key)"
   ]
  },
  {
   "cell_type": "code",
   "execution_count": 29,
   "metadata": {},
   "outputs": [],
   "source": [
    "df=pd.read_json('api\\products\\products.jsonl',lines=True)"
   ]
  },
  {
   "cell_type": "code",
   "execution_count": 30,
   "metadata": {},
   "outputs": [],
   "source": [
    "df['text'] =  df['name']+\" : \"+df['description'] + \\\n",
    "                \" -- Ingredients: \" + df['ingredients'].astype(str) + \\\n",
    "                \" -- Price: \" + df['price'].astype(str) + \\\n",
    "                \" -- rating: \" + df['rating'].astype(str) "
   ]
  },
  {
   "cell_type": "code",
   "execution_count": 31,
   "metadata": {},
   "outputs": [],
   "source": [
    "texts = df['text'].tolist()"
   ]
  },
  {
   "cell_type": "code",
   "execution_count": 32,
   "metadata": {},
   "outputs": [],
   "source": [
    "with open('api/products/Merry\\'s_way_about_us.txt') as f:\n",
    "    Merry_way_about_section = f.read()\n",
    "    \n",
    "Merry_way_about_section = \"Coffee shop Merry's Way about section: \" + Merry_way_about_section\n",
    "texts.append(Merry_way_about_section)"
   ]
  },
  {
   "cell_type": "code",
   "execution_count": 33,
   "metadata": {},
   "outputs": [],
   "source": [
    "with open('api/products/menu_items_text.txt') as f:\n",
    "    menue_items_text = f.read()\n",
    "    \n",
    "menue_items_text = \"Menu Items: \" + menue_items_text\n",
    "texts.append(menue_items_text)"
   ]
  },
  {
   "cell_type": "code",
   "execution_count": 34,
   "metadata": {},
   "outputs": [],
   "source": [
    "def get_embedding(text_input):\n",
    "    response = co.embed(\n",
    "        texts=text_input,\n",
    "        model='embed-english-v3.0',\n",
    "        input_type='search_document',\n",
    "        embedding_types=[\"float\"]\n",
    "    )\n",
    "    \n",
    "    return response.embeddings.float_"
   ]
  },
  {
   "cell_type": "code",
   "execution_count": 35,
   "metadata": {},
   "outputs": [],
   "source": [
    "embeddings = get_embedding(texts)"
   ]
  },
  {
   "cell_type": "code",
   "execution_count": 36,
   "metadata": {},
   "outputs": [
    {
     "data": {
      "text/plain": [
       "20"
      ]
     },
     "execution_count": 36,
     "metadata": {},
     "output_type": "execute_result"
    }
   ],
   "source": [
    "len(embeddings)"
   ]
  },
  {
   "cell_type": "code",
   "execution_count": 44,
   "metadata": {},
   "outputs": [],
   "source": [
    "index_name = \"coffeshop-index\"\n",
    "pc.create_index(\n",
    "    name=index_name,\n",
    "    dimension=384,  # Changed from 1024 to match embedding size\n",
    "    metric=\"cosine\", \n",
    "    spec=ServerlessSpec(\n",
    "        cloud=\"aws\",\n",
    "        region=\"us-east-1\"\n",
    "    ) \n",
    ")"
   ]
  },
  {
   "cell_type": "code",
   "execution_count": 46,
   "metadata": {},
   "outputs": [
    {
     "data": {
      "text/plain": [
       "{'upserted_count': 20}"
      ]
     },
     "execution_count": 46,
     "metadata": {},
     "output_type": "execute_result"
    }
   ],
   "source": [
    "while not pc.describe_index(index_name).status['ready']:\n",
    "    time.sleep(1)\n",
    "\n",
    "index = pc.Index(index_name)\n",
    "\n",
    "vectors = []\n",
    "for text, e in zip(texts, embeddings):\n",
    "    entry_id = text.split(\":\")[0].strip()\n",
    "    vectors.append({\n",
    "        \"id\": entry_id,\n",
    "        \"values\": e,\n",
    "        \"metadata\": {'text': text}\n",
    "    })\n",
    "    \n",
    "index.upsert(\n",
    "    vectors=vectors,\n",
    "    namespace=\"ns1\"\n",
    ")"
   ]
  },
  {
   "cell_type": "code",
   "execution_count": 49,
   "metadata": {},
   "outputs": [],
   "source": [
    "output = get_embedding([\"Is Cappuccino lactose-free?\"])\n",
    "embeding = output"
   ]
  },
  {
   "cell_type": "code",
   "execution_count": 50,
   "metadata": {},
   "outputs": [
    {
     "name": "stdout",
     "output_type": "stream",
     "text": [
      "{'matches': [{'id': 'Cappuccino',\n",
      "              'metadata': {'text': 'Cappuccino : A rich and creamy cappuccino '\n",
      "                                   'made with freshly brewed espresso, steamed '\n",
      "                                   'milk, and a frothy milk cap. This '\n",
      "                                   'delightful drink offers a perfect balance '\n",
      "                                   'of bold coffee flavor and smooth milk, '\n",
      "                                   'making it an ideal companion for relaxing '\n",
      "                                   'mornings or lively conversations. -- '\n",
      "                                   \"Ingredients: ['Espresso', 'Steamed Milk', \"\n",
      "                                   \"'Milk Foam'] -- Price: 4.5 -- rating: 4.7\"},\n",
      "              'score': 0.57559067,\n",
      "              'values': []},\n",
      "             {'id': 'Latte',\n",
      "              'metadata': {'text': 'Latte : Smooth and creamy, our latte '\n",
      "                                   'combines rich espresso with velvety '\n",
      "                                   'steamed milk, creating a perfect balance '\n",
      "                                   'of flavor and texture. Enjoy it as a '\n",
      "                                   'comforting treat any time of day, whether '\n",
      "                                   \"you're starting your morning or taking a \"\n",
      "                                   \"midday break. -- Ingredients: ['Espresso', \"\n",
      "                                   \"'Steamed Milk', 'Milk Foam'] -- Price: \"\n",
      "                                   '4.75 -- rating: 4.8'},\n",
      "              'score': 0.429863304,\n",
      "              'values': []},\n",
      "             {'id': 'Sugar Free Vanilla syrup',\n",
      "              'metadata': {'text': 'Sugar Free Vanilla syrup : Enjoy the sweet '\n",
      "                                   'flavor of vanilla without the sugar, '\n",
      "                                   'making it perfect for your coffee or '\n",
      "                                   'dessert. This syrup offers a guilt-free '\n",
      "                                   'way to enhance your beverages, ensuring '\n",
      "                                   'you never miss out on flavor. -- '\n",
      "                                   \"Ingredients: ['Water', 'Natural Flavors', \"\n",
      "                                   \"'Sucralose'] -- Price: 1.5 -- rating: 4.4\"},\n",
      "              'score': 0.405252129,\n",
      "              'values': []}],\n",
      " 'namespace': 'ns1',\n",
      " 'usage': {'read_units': 6}}\n"
     ]
    }
   ],
   "source": [
    "results = index.query(\n",
    "    namespace=\"ns1\",\n",
    "    vector=embeding,\n",
    "    top_k=3,\n",
    "    include_values=False,\n",
    "    include_metadata=True\n",
    ")\n",
    "\n",
    "print(results)"
   ]
  }
 ],
 "metadata": {
  "kernelspec": {
   "display_name": "Python 3",
   "language": "python",
   "name": "python3"
  },
  "language_info": {
   "codemirror_mode": {
    "name": "ipython",
    "version": 3
   },
   "file_extension": ".py",
   "mimetype": "text/x-python",
   "name": "python",
   "nbconvert_exporter": "python",
   "pygments_lexer": "ipython3",
   "version": "3.10.6"
  }
 },
 "nbformat": 4,
 "nbformat_minor": 2
}
